{
 "cells": [
  {
   "cell_type": "markdown",
   "metadata": {},
   "source": [
    "# BambooHR Take-home RAG Project\n",
    "\n",
    "Joe Davison\n",
    "\n",
    "August 13, 2024"
   ]
  },
  {
   "cell_type": "markdown",
   "metadata": {},
   "source": [
    "### Load & index documents\n",
    "\n",
    "I'll start by loading in all the pdfs in the `./documents` directory and preparing them for retrieval."
   ]
  },
  {
   "cell_type": "code",
   "execution_count": 1,
   "metadata": {},
   "outputs": [
    {
     "data": {
      "text/html": [
       "<div>\n",
       "<style scoped>\n",
       "    .dataframe tbody tr th:only-of-type {\n",
       "        vertical-align: middle;\n",
       "    }\n",
       "\n",
       "    .dataframe tbody tr th {\n",
       "        vertical-align: top;\n",
       "    }\n",
       "\n",
       "    .dataframe thead th {\n",
       "        text-align: right;\n",
       "    }\n",
       "</style>\n",
       "<table border=\"1\" class=\"dataframe\">\n",
       "  <thead>\n",
       "    <tr style=\"text-align: right;\">\n",
       "      <th></th>\n",
       "      <th>text</th>\n",
       "      <th>title</th>\n",
       "    </tr>\n",
       "  </thead>\n",
       "  <tbody>\n",
       "    <tr>\n",
       "      <th>0</th>\n",
       "      <td>Australia women's\\nnational softball team\\nInf...</td>\n",
       "      <td>Australia Women's Softball Team</td>\n",
       "    </tr>\n",
       "    <tr>\n",
       "      <th>1</th>\n",
       "      <td>R.31\\nRole Reconnaissance\\nManufacturer Renard...</td>\n",
       "      <td>Renard R.31</td>\n",
       "    </tr>\n",
       "  </tbody>\n",
       "</table>\n",
       "</div>"
      ],
      "text/plain": [
       "                                                text  \\\n",
       "0  Australia women's\\nnational softball team\\nInf...   \n",
       "1  R.31\\nRole Reconnaissance\\nManufacturer Renard...   \n",
       "\n",
       "                             title  \n",
       "0  Australia Women's Softball Team  \n",
       "1                      Renard R.31  "
      ]
     },
     "execution_count": 1,
     "metadata": {},
     "output_type": "execute_result"
    }
   ],
   "source": [
    "from pathlib import Path\n",
    "from PyPDF2 import PdfReader\n",
    "import pandas as pd\n",
    "\n",
    "documents = []\n",
    "for file_path in Path('./documents').iterdir():\n",
    "    if file_path.suffix.lower() == '.pdf':\n",
    "        with file_path.open('rb') as file:\n",
    "            pdf_reader = PdfReader(file)\n",
    "            text = ''\n",
    "            for page in pdf_reader.pages:\n",
    "                text += page.extract_text()\n",
    "            title = file_path.stem\n",
    "            documents.append({'text': text, 'title': title})\n",
    "    else:\n",
    "        # Future: Handle other file types\n",
    "        pass\n",
    "\n",
    "documents_df = pd.DataFrame(documents)\n",
    "documents_df"
   ]
  },
  {
   "cell_type": "code",
   "execution_count": 2,
   "metadata": {},
   "outputs": [
    {
     "name": "stdout",
     "output_type": "stream",
     "text": [
      "Australia women's\n",
      "national softball team\n",
      "Information\n",
      "Country\n",
      "  Australia\n",
      "Federation Softball Australia\n",
      "ConfederationWBSC Oceania\n",
      "WBSC World\n",
      "Rank10 \n",
      " 3 (10\n",
      "November\n",
      "2023)[1]\n",
      "Women's Softball World Cup\n",
      "\n"
     ]
    }
   ],
   "source": [
    "print(documents_df.text[0][:200])"
   ]
  },
  {
   "cell_type": "markdown",
   "metadata": {},
   "source": [
    "As is common when working with pdfs, the whitespace handling of the extractecd text is imperfect. High-performance LLMs won't have any problem handling this noise, so I'll leave it as-is for this exercise. In a production system, it might be advisable to add a preprocessing step to clean up this text, either using a rule-based approach or even using an LLM to reformat the text."
   ]
  },
  {
   "cell_type": "markdown",
   "metadata": {},
   "source": [
    "##### Split documents into smaller chunks\n",
    "\n",
    "With just two pdf's, we might be able to load the entire text of both documents into the model context. This wouldn't scale to larger knowledge bases, however. It also risks innundating the model with too much information, which may damage performance, especially with smaller models.\n",
    "\n",
    "Instead, I will split each document into smaller document *chunks* which will be indexed and retrieved. I will also add some overlap between chunks to minimize the chance of losing important contextual information by splitting a document mid-sentence, for example."
   ]
  },
  {
   "cell_type": "code",
   "execution_count": 3,
   "metadata": {},
   "outputs": [
    {
     "name": "stdout",
     "output_type": "stream",
     "text": [
      "<DOCUMENT>\n",
      "<TITLE>Australia Women's Softball Team</TITLE>\n",
      "<EXCERPT>\n",
      "orting teams on the world stage, and they have\n",
      "achieved outstanding results over the last 3 decades. Alongs ide the\n",
      "USA team, the Aussie Spirit are the only other team to medal at all\n",
      "4 Olympics that softball was included as a sport in the Olympics\n",
      "program.[2] At the inaugural Women's Softball World\n",
      "Championship held in Melbourne, 1965. Australia claimed the first\n",
      "ever title, winning Gold and stamped themselves as a pioneer in the\n",
      "sport.\n",
      "The national team has not secured as much funding as male\n",
      "dominated sports in Australia despite having performed better than\n",
      "some and having won major international competitions.[3] The\n",
      "removal of softball from the Olympic programme resulted in the\n",
      "national team getting less funding.[4]\n",
      "Australian women competed in their first international competition\n",
      "in 1949 when they played a series against New Zealand in St Kilda\n",
      "at the St Kilda Cricket Ground.[5] 10,000 people watched the game\n",
      "live.[5] The first international for Australian women took place in\n",
      "1951 when the Australians toured New Zealand.[5][6] Australia\n",
      "won both games against the New Zealanders.[6] In 1960, Australia\n",
      "hosted its first international tournament with national teams from\n",
      "Australia, New Zealand and South Africa competing.[5][6] At the\n",
      "tournament, Australia beat South Africa by a score of 2–1.[6]\n",
      "Australia hosted the event again in 1962 , where they beat the New\n",
      "Zealanders in the final 2–1.[6] At the ISF Women's World\n",
      "Championship, Australia finished first in 1965 and second i\n",
      "</EXCERPT>\n",
      "</DOCUMENT>\n"
     ]
    }
   ],
   "source": [
    "CHUNK_SIZE = 1500 # number of characters per chunk, as determined by whitespace split\n",
    "OVERLAP = 500 # number of characters to overlap between chunks\n",
    "\n",
    "chunks = []\n",
    "for doc_id, row in documents_df.iterrows():\n",
    "    doc = row['text']\n",
    "    title = row['title']\n",
    "    for i in range(0, len(doc), CHUNK_SIZE-OVERLAP):\n",
    "        chunk = doc[i:i+CHUNK_SIZE].strip()\n",
    "        chunk = f'<DOCUMENT>\\n<TITLE>{title}</TITLE>\\n<EXCERPT>\\n{chunk}\\n</EXCERPT>\\n</DOCUMENT>'\n",
    "        chunks.append({'text': chunk, 'doc_id': doc_id})\n",
    "\n",
    "chunks_df = pd.DataFrame(chunks)\n",
    "\n",
    "print(chunks_df.text[1])"
   ]
  },
  {
   "cell_type": "markdown",
   "metadata": {},
   "source": [
    "##### Create chunk embeddings\n",
    "\n",
    "In order to retrieve chunks, we will need to compute embeddings for each chunk. I will use OpenAI's `text-embedding-3-small` model for this purpose."
   ]
  },
  {
   "cell_type": "code",
   "execution_count": 4,
   "metadata": {},
   "outputs": [
    {
     "data": {
      "text/html": [
       "<div>\n",
       "<style scoped>\n",
       "    .dataframe tbody tr th:only-of-type {\n",
       "        vertical-align: middle;\n",
       "    }\n",
       "\n",
       "    .dataframe tbody tr th {\n",
       "        vertical-align: top;\n",
       "    }\n",
       "\n",
       "    .dataframe thead th {\n",
       "        text-align: right;\n",
       "    }\n",
       "</style>\n",
       "<table border=\"1\" class=\"dataframe\">\n",
       "  <thead>\n",
       "    <tr style=\"text-align: right;\">\n",
       "      <th></th>\n",
       "      <th>text</th>\n",
       "      <th>doc_id</th>\n",
       "      <th>embedding</th>\n",
       "    </tr>\n",
       "  </thead>\n",
       "  <tbody>\n",
       "    <tr>\n",
       "      <th>0</th>\n",
       "      <td>&lt;DOCUMENT&gt;\\n&lt;TITLE&gt;Australia Women's Softball ...</td>\n",
       "      <td>0</td>\n",
       "      <td>[-0.008297553285956383, -0.0018626594683155417...</td>\n",
       "    </tr>\n",
       "    <tr>\n",
       "      <th>1</th>\n",
       "      <td>&lt;DOCUMENT&gt;\\n&lt;TITLE&gt;Australia Women's Softball ...</td>\n",
       "      <td>0</td>\n",
       "      <td>[0.0019335211254656315, 0.003245603758841753, ...</td>\n",
       "    </tr>\n",
       "    <tr>\n",
       "      <th>2</th>\n",
       "      <td>&lt;DOCUMENT&gt;\\n&lt;TITLE&gt;Australia Women's Softball ...</td>\n",
       "      <td>0</td>\n",
       "      <td>[-0.002718560164794326, 0.007791959680616856, ...</td>\n",
       "    </tr>\n",
       "    <tr>\n",
       "      <th>3</th>\n",
       "      <td>&lt;DOCUMENT&gt;\\n&lt;TITLE&gt;Australia Women's Softball ...</td>\n",
       "      <td>0</td>\n",
       "      <td>[0.009526480920612812, 0.00444354023784399, 0....</td>\n",
       "    </tr>\n",
       "    <tr>\n",
       "      <th>4</th>\n",
       "      <td>&lt;DOCUMENT&gt;\\n&lt;TITLE&gt;Australia Women's Softball ...</td>\n",
       "      <td>0</td>\n",
       "      <td>[-0.004598692990839481, -0.012488720007240772,...</td>\n",
       "    </tr>\n",
       "  </tbody>\n",
       "</table>\n",
       "</div>"
      ],
      "text/plain": [
       "                                                text  doc_id  \\\n",
       "0  <DOCUMENT>\\n<TITLE>Australia Women's Softball ...       0   \n",
       "1  <DOCUMENT>\\n<TITLE>Australia Women's Softball ...       0   \n",
       "2  <DOCUMENT>\\n<TITLE>Australia Women's Softball ...       0   \n",
       "3  <DOCUMENT>\\n<TITLE>Australia Women's Softball ...       0   \n",
       "4  <DOCUMENT>\\n<TITLE>Australia Women's Softball ...       0   \n",
       "\n",
       "                                           embedding  \n",
       "0  [-0.008297553285956383, -0.0018626594683155417...  \n",
       "1  [0.0019335211254656315, 0.003245603758841753, ...  \n",
       "2  [-0.002718560164794326, 0.007791959680616856, ...  \n",
       "3  [0.009526480920612812, 0.00444354023784399, 0....  \n",
       "4  [-0.004598692990839481, -0.012488720007240772,...  "
      ]
     },
     "execution_count": 4,
     "metadata": {},
     "output_type": "execute_result"
    }
   ],
   "source": [
    "import openai\n",
    "\n",
    "client = openai.OpenAI()\n",
    "EMBED_MODEL = 'text-embedding-3-small'\n",
    "\n",
    "# compute embeddings and add to chunks_df\n",
    "embeddings = []\n",
    "for chunk in chunks_df.text:\n",
    "    embedding = client.embeddings.create(input=chunk, model=EMBED_MODEL)\n",
    "    embeddings.append(embedding.data[0].embedding)\n",
    "\n",
    "chunks_df['embedding'] = embeddings\n",
    "\n",
    "chunks_df.head()"
   ]
  },
  {
   "cell_type": "markdown",
   "metadata": {},
   "source": [
    "##### Create retrieval endpoint\n",
    "\n",
    "We could use a vector databse such as Pinecone or Chroma to store the chunks and retrieve them, or use something simpler like Postgres and compute the similarity scores manually. For this exercise, I will use a simple numpy array to store the embeddings and retrieve them."
   ]
  },
  {
   "cell_type": "code",
   "execution_count": 5,
   "metadata": {},
   "outputs": [],
   "source": [
    "import numpy as np\n",
    "\n",
    "def retrieve_chunks(query, n=5):\n",
    "    \"\"\"\n",
    "    Retrieves the `n` chunks that are closest to `query` in embedding space.\n",
    "    Selected according to cosine similarity.\n",
    "    \"\"\"\n",
    "    # embed the query\n",
    "    query_embed = client.embeddings.create(input=query, model=EMBED_MODEL)\n",
    "    query_embed = query_embed.data[0].embedding\n",
    "    # compute similarities\n",
    "    doc_embeds = np.array(chunks_df.embedding.tolist())\n",
    "    # note: cosine similarity is equivalent to dot product when vectors are unit-length,\n",
    "    # which is what openai's embeddings API returns\n",
    "    similarities = doc_embeds @ query_embed\n",
    "    # sort and select\n",
    "    chunk_inds = np.argsort(similarities)[::-1][:n]\n",
    "    retrieved_df = chunks_df.iloc[chunk_inds].copy()\n",
    "    retrieved_df['similarity'] = similarities[chunk_inds]\n",
    "    return retrieved_df"
   ]
  },
  {
   "cell_type": "markdown",
   "metadata": {},
   "source": [
    "Let's test it out with one of the given prompts:"
   ]
  },
  {
   "cell_type": "code",
   "execution_count": 6,
   "metadata": {},
   "outputs": [
    {
     "name": "stdout",
     "output_type": "stream",
     "text": [
      "<DOCUMENT>\n",
      "<TITLE>Renard R.31</TITLE>\n",
      "<EXCERPT>\n",
      "R.31\n",
      "Role Reconnaissance\n",
      "Manufacturer Renard\n",
      "First flight 1932\n",
      "Introduction 1935\n",
      "Retired 1940\n",
      "Primary user Belgian Air Force\n",
      "Number built 34Renard R.31\n",
      "The Renard R.31 was a Belgian reconna issance\n",
      "aircraft of the 1930s . A single-engined parasol\n",
      "monopl ane, 32 R.31s were built for the Belgian Air\n",
      "Force, the survivors of which, although obsolete,\n",
      "remained in service when Nazi Germany invaded\n",
      "Belgium in 1940. The Renard R.31 was the only World\n",
      "War II operational military aircraft entirely designed and\n",
      "built in Belgium.\n",
      "The Renard R.31 was designed by Alfred Renard of\n",
      "Constructions Aéronautiques G. Renard to meet a\n",
      "requirement of the Belgian Air Force for a short ranged\n",
      "reconna issance and army co-operation aircraft. It first\n",
      "flew from Evere Airfield, near Brussels, on 16 October\n",
      "1932.[1]\n",
      "It was a parasol monopl ane of mixed construction,\n",
      "powered by a Rolls-Royce Kestrel engine, with a welded steel tubing structure with metal sheet covering\n",
      "the forward fuselage and fabric covering of the remainder of the airframe. The wing was held in position by\n",
      "a single Vee strut on e ach side, conjoined with its fixed unde r carriage.\n",
      "An order for 28 R.31s was placed in March 1934, with six to be built by Renard and the remainder by\n",
      "SABCA. One aircraft was fitted with a Lorraine Petrel engine for evaluation, but this was later replaced by\n",
      "the normal Kestrel engine. A second aircraft was fitted with an enclosed canopy and a Gnome-Rhône\n",
      "Mistral Major radial engine, becoming the R-32, with this\n",
      "</EXCERPT>\n",
      "</DOCUMENT>\n"
     ]
    }
   ],
   "source": [
    "retrieved = retrieve_chunks('Which two companies created the R.31 reconnaissance aircraft?')\n",
    "print(retrieved.iloc[0].text)"
   ]
  },
  {
   "cell_type": "markdown",
   "metadata": {},
   "source": [
    "### Use GPT-4o to generate response\n",
    "\n",
    "Now that the retrieval piece is in place, I'll construct a prompt template that will be used to generate a response from GPT-4o using the retrieved chunks.\n",
    "\n",
    "When constructing the prompt, I will use xml-like <DOCUMENT> tags to separate the documents, which I have found to be a helpful prompt engineering technique for wrapping inserted text in a structured but readable way."
   ]
  },
  {
   "cell_type": "code",
   "execution_count": 7,
   "metadata": {},
   "outputs": [],
   "source": [
    "SYSTEM_PROMPT_BASE = \"\"\"\\\n",
    "You are helpful assistant that can answer user questions using the provided documents.\n",
    "\n",
    "Documents:\n",
    "---\n",
    "{documents}\n",
    "---\n",
    "\n",
    "Answer the user's question using information found in the documents above.\"\"\""
   ]
  },
  {
   "cell_type": "code",
   "execution_count": 8,
   "metadata": {},
   "outputs": [],
   "source": [
    "def construct_system_prompt(documents):\n",
    "    documents_str = '\\n\\n'.join(documents)\n",
    "    return SYSTEM_PROMPT_BASE.format(documents=documents_str)"
   ]
  },
  {
   "cell_type": "code",
   "execution_count": 9,
   "metadata": {},
   "outputs": [
    {
     "name": "stdout",
     "output_type": "stream",
     "text": [
      "You are helpful assistant that can answer user questions using the provided documents.\n",
      "\n",
      "Documents:\n",
      "---\n",
      "<DOCUMENT>\n",
      "<TITLE>Australia Women's Softball Team</TITLE>\n",
      "<EXCERPT>\n",
      "Australia women's\n",
      "national softball team\n",
      "Information\n",
      "Country\n",
      "  Australia\n",
      "Federation Softball Australia\n",
      "ConfederationWBSC Oceania\n",
      "WBSC World\n",
      "Rank10 \n",
      " 3 (10\n",
      "November\n",
      "2023)[1]\n",
      "Women's Softball World Cup\n",
      "Appearances 17 (First in 1965)\n",
      "Best result\n",
      "  1st (1 time, in\n",
      "1965)\n",
      "USA Softball International Cup\n",
      "Appearances 8 (First in 2005)\n",
      "Best result\n",
      "  2nd (2 times,\n",
      "most recent in\n",
      "2012)\n",
      "Olympic Games\n",
      "Appearances 5 (First in 1996)\n",
      "Best result\n",
      "  2nd (1 time, in\n",
      "2004)\n",
      "Australia women's national\n",
      "softball team\n",
      "Medal record\n",
      "Softball at the Summer Olympics\n",
      "Representing \n",
      " Australia\n",
      "Olympic Games\n",
      "2004 Athens Team\n",
      "1996 Atlanta Team\n",
      "2000 Sydney Team\n",
      "2008 Beijing Team\n",
      "World Championship\n",
      "1965 MelbourneAustralia women's national softball team\n",
      "The Australia women's national softball team, also know n as\n",
      "the Aussie Spirit,[2] is the national softball team of Australia. It is\n",
      "gove rned by Softball Australia and takes part in international\n",
      "softball competitions. They are one of Australia's most successful\n",
      "women's sporting teams on the world stage, and they have\n",
      "achieved outstanding results over the last 3 decades. Alongs ide the\n",
      "USA team, the Aussie Spirit are the only other team to medal at all\n",
      "4 Olympics that softball was included as a sport in the Olympics\n",
      "program.[2] At the inaugural Women's Softball World\n",
      "Championship held in Melbourne, 1965. Australia claimed the first\n",
      "ever title, winning Gold and stamped themselves as a pioneer in the\n",
      "sport.\n",
      "The national team has not secured as much funding as male\n",
      "</EXCERPT>\n",
      "</DOCUMENT>\n",
      "\n",
      "<DOCUMENT>\n",
      "<TITLE>Australia Women's Softball Team</TITLE>\n",
      "<EXCERPT>\n",
      "orting teams on the world stage, and they have\n",
      "achieved outstanding results over the last 3 decades. Alongs ide the\n",
      "USA team, the Aussie Spirit are the only other team to medal at all\n",
      "4 Olympics that softball was included as a sport in the Olympics\n",
      "program.[2] At the inaugural Women's Softball World\n",
      "Championship held in Melbourne, 1965. Australia claimed the first\n",
      "ever title, winning Gold and stamped themselves as a pioneer in the\n",
      "sport.\n",
      "The national team has not secured as much funding as male\n",
      "dominated sports in Australia despite having performed better than\n",
      "some and having won major international competitions.[3] The\n",
      "removal of softball from the Olympic programme resulted in the\n",
      "national team getting less funding.[4]\n",
      "Australian women competed in their first international competition\n",
      "in 1949 when they played a series against New Zealand in St Kilda\n",
      "at the St Kilda Cricket Ground.[5] 10,000 people watched the game\n",
      "live.[5] The first international for Australian women took place in\n",
      "1951 when the Australians toured New Zealand.[5][6] Australia\n",
      "won both games against the New Zealanders.[6] In 1960, Australia\n",
      "hosted its first international tournament with national teams from\n",
      "Australia, New Zealand and South Africa competing.[5][6] At the\n",
      "tournament, Australia beat South Africa by a score of 2–1.[6]\n",
      "Australia hosted the event again in 1962 , where they beat the New\n",
      "Zealanders in the final 2–1.[6] At the ISF Women's World\n",
      "Championship, Australia finished first in 1965 and second i\n",
      "</EXCERPT>\n",
      "</DOCUMENT>\n",
      "\n",
      "<DOCUMENT>\n",
      "<TITLE>Australia Women's Softball Team</TITLE>\n",
      "<EXCERPT>\n",
      "1 when the Australians toured New Zealand.[5][6] Australia\n",
      "won both games against the New Zealanders.[6] In 1960, Australia\n",
      "hosted its first international tournament with national teams from\n",
      "Australia, New Zealand and South Africa competing.[5][6] At the\n",
      "tournament, Australia beat South Africa by a score of 2–1.[6]\n",
      "Australia hosted the event again in 1962 , where they beat the New\n",
      "Zealanders in the final 2–1.[6] At the ISF Women's World\n",
      "Championship, Australia finished first in 1965 and second in\n",
      "1998.[7] The 1965  victory was considered very impressive as theyFunding\n",
      "History1998 Fujinomiya\n",
      "1974 Stratford\n",
      "1982 Taipei\n",
      "2006 Beijing\n",
      "2014 Haarlem\n",
      "World Cup of Softball\n",
      "2009 Oklahoma City\n",
      "2012 Oklahoma City\n",
      "2005 Oklahoma City\n",
      "2013 Oklahoma City\n",
      "At the highest level\n",
      "they are moving away\n",
      "from the ideals of\n",
      "Olympicism. We've\n",
      "been a casualty of that.\n",
      "I'm not against golf or\n",
      "any other sport being\n",
      "at the Olympics. I\n",
      "think there should be a\n",
      "place for everyone . I\n",
      "just thought  we'd been\n",
      "loyal to the Olympic\n",
      "movement and they\n",
      "should have been loyal\n",
      "to us.\n",
      "Melanie Roche, four\n",
      "time Olympic medalist\n",
      "in softball[15]\n",
      "Parade of Olympians – Sydney 2008\n",
      "– Women's softball teambeat the Americans, who invented the game in 1887, to win the\n",
      "championship.[8] Between 1949 and 1967, Australia's senior\n",
      "women's side was unde feated in international play.[6]\n",
      "Australia's women have won the World Championships.[3]\n",
      "Australia was one of five nations to compete at the inaugural ISF\n",
      "Women's World Championship hel\n",
      "</EXCERPT>\n",
      "</DOCUMENT>\n",
      "\n",
      "<DOCUMENT>\n",
      "<TITLE>Australia Women's Softball Team</TITLE>\n",
      "<EXCERPT>\n",
      "e Olympic\n",
      "movement and they\n",
      "should have been loyal\n",
      "to us.\n",
      "Melanie Roche, four\n",
      "time Olympic medalist\n",
      "in softball[15]\n",
      "Parade of Olympians – Sydney 2008\n",
      "– Women's softball teambeat the Americans, who invented the game in 1887, to win the\n",
      "championship.[8] Between 1949 and 1967, Australia's senior\n",
      "women's side was unde feated in international play.[6]\n",
      "Australia's women have won the World Championships.[3]\n",
      "Australia was one of five nations to compete at the inaugural ISF\n",
      "Women's World Championship held in Melbourne, Victoria in\n",
      "1965.[9]: 375 [10] At the time Australia hosted the event, the sport\n",
      "was being played by women across the country on the club and\n",
      "school level.[9]: 482–484  At the 1965 Championships, Australia\n",
      "played two games against the United States where they shut them\n",
      "out and allowed them to score no runs.[11] In 1974, Australia was\n",
      "knoc ked out at the semi-finals stage by the Americans by a score of\n",
      "6–0.[12] Australia finished second to the United States at the 1998\n",
      "championship. They lost in a one hit shutout.[13] This was their best\n",
      "finish since the competition's inception.[7] Australia will compete at\n",
      "the 2012 e dition.[14]\n",
      "Australia competed at all five\n",
      "Olympic Games where the sport was played. At them, they won three bronze\n",
      "medals and a silver.[15]\n",
      "Going into the 1996 Summer\n",
      "Olympics, Australia were considered\n",
      "one of the favourites to possibly win\n",
      "gold.[16] The Australians beat the\n",
      "Americans at the 1996 Olympics.[15]\n",
      "Australia finished with a bronze\n",
      "medal.[17]\n",
      "Th\n",
      "</EXCERPT>\n",
      "</DOCUMENT>\n",
      "\n",
      "<DOCUMENT>\n",
      "<TITLE>Australia Women's Softball Team</TITLE>\n",
      "<EXCERPT>\n",
      "p. They lost in a one hit shutout.[13] This was their best\n",
      "finish since the competition's inception.[7] Australia will compete at\n",
      "the 2012 e dition.[14]\n",
      "Australia competed at all five\n",
      "Olympic Games where the sport was played. At them, they won three bronze\n",
      "medals and a silver.[15]\n",
      "Going into the 1996 Summer\n",
      "Olympics, Australia were considered\n",
      "one of the favourites to possibly win\n",
      "gold.[16] The Australians beat the\n",
      "Americans at the 1996 Olympics.[15]\n",
      "Australia finished with a bronze\n",
      "medal.[17]\n",
      "The 2000 Games were played in Sydne y. They had to beat the Americans to\n",
      "qualify for the gold medal, but lost 1–0 in a shut out.[18] The Australians beat\n",
      "the Americans during the early part of the competition dur ing pool  play.[9]Women's World Championship\n",
      "Olympics\n",
      "1996 Olympic Team\n",
      "2000 Olympic Team\n",
      "2004 Olympic TeamAustralia won a silver medal at the 2004 S ummer Olympics in Athens.[19][20][21]\n",
      "Australia earned a bronze medal at the 2008 S ummer Games.[22]\n",
      "Australia achieved a fifth place finish at the 2020 S ummer Games in Tokyo. [23]\n",
      "Majorie Nelson was a Victorian softball player. She was the first softball player to represent any country at\n",
      "four World Series of Softball. She was the Australian captain in 1974 a nd 1978 a nd the World Series.[24]\n",
      "Australia earned a bronze medal at the 2005 World Cup.[25] In 2009, they earned a silver at the World Cup\n",
      "of Softball.[26][27]\n",
      "Australia earned a gold medal at the 2005 Canada Cup.[25] They earned a silver in 2008.[20] They earned a\n",
      "bronze\n",
      "</EXCERPT>\n",
      "</DOCUMENT>\n",
      "---\n",
      "\n",
      "Answer the user's question using information found in the documents above.\n"
     ]
    }
   ],
   "source": [
    "print(construct_system_prompt(chunks_df.text.iloc[:5]))"
   ]
  },
  {
   "cell_type": "markdown",
   "metadata": {},
   "source": [
    "##### Generate response from LLM\n",
    "\n",
    "Now that we have our retrieval and system prompts in place, we can use the OpenAI client to generate a response from GPT-4o."
   ]
  },
  {
   "cell_type": "code",
   "execution_count": 10,
   "metadata": {},
   "outputs": [],
   "source": [
    "def generate_response(query, n_retrieved=5):\n",
    "    retrieved = retrieve_chunks(query, n=n_retrieved)\n",
    "    system_prompt = construct_system_prompt(retrieved.text)\n",
    "    response = client.chat.completions.create(\n",
    "        model='gpt-4o',\n",
    "        messages=[{'role': 'system', 'content': system_prompt}, {'role': 'user', 'content': query}]\n",
    "    )\n",
    "    return response.choices[0].message.content"
   ]
  },
  {
   "cell_type": "code",
   "execution_count": 11,
   "metadata": {},
   "outputs": [
    {
     "name": "stdout",
     "output_type": "stream",
     "text": [
      "The R.31 reconnaissance aircraft was created by Renard, with six built by Renard and the remainder by SABCA.\n"
     ]
    }
   ],
   "source": [
    "question = 'Which two companies created the R.31 reconnaissance aircraft?'\n",
    "response = generate_response(question)\n",
    "print(response)"
   ]
  },
  {
   "cell_type": "code",
   "execution_count": 12,
   "metadata": {},
   "outputs": [
    {
     "name": "stdout",
     "output_type": "stream",
     "text": [
      "The Renard R.31 was mounted with one or two forward-firing 7.62 mm Vickers machine guns and one 7.62 mm Lewis machine gun in a flexible mount in the rear cockpit.\n"
     ]
    }
   ],
   "source": [
    "question = 'What guns were mounted on the Renard R.31?'\n",
    "response = generate_response(question)\n",
    "print(response)"
   ]
  },
  {
   "cell_type": "code",
   "execution_count": 13,
   "metadata": {},
   "outputs": [
    {
     "name": "stdout",
     "output_type": "stream",
     "text": [
      "Majorie Nelson was the first softball player to represent any country at four World Series of Softball.\n"
     ]
    }
   ],
   "source": [
    "question = 'Who was the first softball player to represent any country at four World Series of Softball?'\n",
    "response = generate_response(question)\n",
    "print(response)"
   ]
  },
  {
   "cell_type": "code",
   "execution_count": 14,
   "metadata": {},
   "outputs": [
    {
     "name": "stdout",
     "output_type": "stream",
     "text": [
      "The pitchers on the Australian softball team's roster at the 2020 Summer Olympics were:\n",
      "\n",
      "- Ellen Roberts\n",
      "- Tarni Stepto\n",
      "- Kaia Parnaby\n",
      "- Gabbie Plain\n"
     ]
    }
   ],
   "source": [
    "question = 'Who were the pitchers on the Australian softball team\\'s roster at the 2020 Summer Olympics?'\n",
    "response = generate_response(question)\n",
    "print(response)"
   ]
  },
  {
   "cell_type": "markdown",
   "metadata": {},
   "source": [
    "### Discussion of scaling challenges\n",
    "\n",
    "This is the most trivial example of a RAG system, and it's probably sub-optimal when we start to scale the number of documents. Here are some challenges that we might run into and how we could address them:\n",
    "\n",
    "1. **Information recall.** As the number of documents increases, the recall of the system will decrease. It will become more likely that a simple dot-product vector search will not return the documents needed to answer a user's query. Some of the following strategies may help:\n",
    "    - **Better chunking and preprocessing.** In this exercise, I simply extracted the entire text of the pdf and split it into chunks. This worked well for two documents, but it may not be sufficient for a larger knowledge base. We could use a more sophisticated method of chunking such as splitting at meaningful sentence boundaries. We could also use an LLM to reformat the text into cleaner, more distinct blocks of text. We might might want to provide more metadata to the chunks, such as the heading name or the page number of the excerpt in the document (similar to how we added the document title to each chunk).\n",
    "    - **Reranking.** One successful approach to improving retrieval pipelines is to incorporate a *reranker* model. In this setup, we first retrieve a large number of candidate chunks using vector search, and then use a more expensive model to directly compare each candidate chunk to the query, resulting in a higher quality set of final documents than would be returned by vector search alone.\n",
    "    - **Hybrid vector/keyword search**. Another common approach is to combine vector search with a more traditional keyword search. This hybrid approach is often used in production systems, and it can often be more successful than either approach in isolation.\n",
    "\n",
    "2. **Model limitations.** GPT-4o is a powerful model, but may not be practical for every use case due to its high API costs, latency, and lack of on-premise access. This could be addressed by using an open-access model and deploying it locally, but may come at the cost of lower response quality. This may require us to spend additional time tuning the prompt and the retrieval pipeline in order to get GPT4-quality answers.\n",
    "\n",
    "3. **Incomplete or conflicting information.** In the provided questions in this exercise, the answer was clearly stated in one of the provided documents. In a real-world scenario, we would likely run into situations where the answer is not provided in the documents, or where the documents contain conflicting or outdated information. Careful prompt engineering and extensive testing would be needed to ensure that model hallucinations or outdated documents do not mislead users."
   ]
  }
 ],
 "metadata": {
  "kernelspec": {
   "display_name": "Python 3 (ipykernel)",
   "language": "python",
   "name": "python3"
  },
  "language_info": {
   "codemirror_mode": {
    "name": "ipython",
    "version": 3
   },
   "file_extension": ".py",
   "mimetype": "text/x-python",
   "name": "python",
   "nbconvert_exporter": "python",
   "pygments_lexer": "ipython3",
   "version": "3.12.4"
  }
 },
 "nbformat": 4,
 "nbformat_minor": 4
}
